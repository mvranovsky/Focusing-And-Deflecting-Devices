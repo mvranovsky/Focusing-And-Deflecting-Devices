{
 "cells": [
  {
   "cell_type": "code",
   "execution_count": 1,
   "id": "04da7f8a-3d13-4271-b6ed-2a94bcd087a9",
   "metadata": {},
   "outputs": [],
   "source": [
    "import pandas as pd\n",
    "import numpy as np\n",
    "import matplotlib.pyplot as plt\n",
    "import os\n",
    "import re\n",
    "import yaml\n",
    "import sys\n",
    "import subprocess"
   ]
  },
  {
   "cell_type": "markdown",
   "id": "b9ad748b-f18d-4f1c-81fb-9be0e874df9f",
   "metadata": {},
   "source": [
    "## Parallel focusing \n",
    "function which looks for the best setup of magnets to focus beam with some input parameters (energy and other initial parameters) into a parallel focused beam. The setup of magnets consists of 3 permanent quadrupole magnets which are positioned one after another. Because they are permanent, the only varying parameters are the distances between them. Function RefParticles() runs only 5 reference particles, Beam() function runs the whole beam."
   ]
  },
  {
   "cell_type": "code",
   "execution_count": 8,
   "id": "c534ef1e-3318-4d9d-a7fd-4116aca7d25b",
   "metadata": {},
   "outputs": [],
   "source": [
    "fileName = \"ParallelBeam\"\n",
    "runNumber = \"001\"\n",
    "setupLength = \"2\" #m\n",
    "longitudalEnergy = \"5.0E+8\" #eV\n",
    "nIntervals = 1000\n",
    "\n",
    "#parameters of magnets\n",
    "lengthQ1 = 0.036  #m\n",
    "lengthQ2 = 0.12  #m\n",
    "lengthQ3 = 0.1  #m\n",
    "\n",
    "#offsets and angles for reference particles\n",
    "xoffset = \"2.0E-4\" #m\n",
    "yoffset =  \"2.0E-4\" #m\n",
    "xmom = \"1.0E+6\" #eV\n",
    "ymom = \"1.0E+6\" #eV\n",
    "\n",
    "\n",
    "#parameters of the beam\n",
    "\n"
   ]
  },
  {
   "cell_type": "markdown",
   "id": "93eeae7b-b3b4-41ad-8750-554bae10cd9e",
   "metadata": {},
   "source": [
    "Files test0.ini all the way to test4.ini are input data for 5 different runs. File test0.ini has 0. reference particle with 0 offset and 0 initial angle, 1 and 2 have offsets in the x and y directions respectively and the last 2 have predefined angles. All of them should be parallel in the end."
   ]
  },
  {
   "cell_type": "code",
   "execution_count": 4,
   "id": "f2be93c7-05d4-4342-8bc8-53b42e1243ca",
   "metadata": {},
   "outputs": [],
   "source": [
    "def changeInputData(tag, newVar):\n",
    "#universal function which changes input parameter in input file to Astra\n",
    "    try:\n",
    "        # Open the file for reading\n",
    "        with open(fileName + \".in\", 'r') as file:\n",
    "            lines = file.readlines()\n",
    "\n",
    "        # Prepare the replacement string\n",
    "        replacement = \" \" + tag + \"=\" + newVar + \"\\n\"\n",
    "\n",
    "        # Iterate over the lines to find and replace the target line\n",
    "        for i, line in enumerate(lines):\n",
    "            if tag in line:\n",
    "                lines[i] = replacement\n",
    "                break  # Assuming there's only one occurrence to replace\n",
    "\n",
    "        # Write the modified lines back to the file\n",
    "        with open(fileName + \".in\", 'w') as file:\n",
    "            file.writelines(lines)\n",
    "\n",
    "        print(f\"Replaced '{tag}' with '{replacement.strip()}'.\")\n",
    "\n",
    "    except FileNotFoundError:\n",
    "        print(\"The file \" + fileName + \".ini was not found.\")\n",
    "    except Exception as e:\n",
    "        print(f\"An error occurred: {e}\")\n",
    "\n",
    "\n",
    "    return"
   ]
  },
  {
   "cell_type": "code",
   "execution_count": 6,
   "id": "fa341c02-3265-464d-b306-ddfa3d3d8f8d",
   "metadata": {},
   "outputs": [],
   "source": [
    "def update():\n",
    "    \n",
    "    inputData = \"  \" + xoffset + \"  0.0000E+00  0.0000E+00  0.0000E+00  0.0000E+00  5.0000E+08  0.0000E+00 -1.0000E-01   1   5\"\n",
    "    with open(\"test1.ini\", \"w\") as file:\n",
    "        file.write(inputData)\n",
    "\n",
    "    inputData = \"  0.0000E+00  \" + yoffset + \"  0.0000E+00  0.0000E+00  0.0000E+00  5.0000E+08  0.0000E+00 -1.0000E-01   1   5\"\n",
    "    with open(\"test2.ini\", \"w\") as file:\n",
    "        file.write(inputData)\n",
    "\n",
    "    inputData = \"  0.0000E+00  0.0000E+00  0.0000E+00 \" + xmom + \" 0.0000E+00  5.0000E+08  0.0000E+00 -1.0000E-01   1   5\"\n",
    "    with open(\"test3.ini\", \"w\") as file:\n",
    "        file.write(inputData)\n",
    "\n",
    "    inputData = \"  0.0000E+00  0.0000E+00  0.0000E+00  0.0000E+00 \" + ymom + \" 5.0000E+08  0.0000E+00 -1.0000E-01   1   5\"\n",
    "    with open(\"test4.ini\", \"w\") as file:\n",
    "        file.write(inputData)   \n",
    "\n",
    "    #change input energy\n",
    "    changeInputData(\"Ref_Ekin\", longitudalEnergy)\n",
    "    changeInputData(\"ZSTOP\", setupLength)\n",
    "\n",
    "    #change properties of magnets\n",
    "    changeInputData(\"Q_length(1)\", str(lengthQ1))\n",
    "    changeInputData(\"Q_length(2)\", str(lengthQ2))\n",
    "    changeInputData(\"Q_length(3)\", str(lengthQ3))\n",
    "\n",
    "    \n",
    "    #later add changes of parameters of the beam\n",
    "\n",
    "\n",
    "    return"
   ]
  },
  {
   "cell_type": "code",
   "execution_count": 9,
   "id": "279dff1f-060f-4e59-8278-991e290248e6",
   "metadata": {},
   "outputs": [],
   "source": [
    "def loadDataRef():\n",
    "#open and load data about reference particle\n",
    "#z [m], t [ns], pz [MeV/c], dE/dz [MeV/c], Larmor Angle [rad], x off [mm], y off [mm], px [eV/c], py [eV/c]\n",
    "    \n",
    "    data = []\n",
    "    with open(fileName + \".ref.\" + fillNumber,\"r\") as file:\n",
    "        for line in file:\n",
    "            newLine = differLine(line)\n",
    "            data.append(newLine)\n",
    "\n",
    "    return data\n",
    "    "
   ]
  },
  {
   "cell_type": "code",
   "execution_count": null,
   "id": "d2c06dce-2836-4854-9032-f51965ea6bb1",
   "metadata": {},
   "outputs": [],
   "source": [
    "def runRef(D1, D2, D3):\n",
    "    #this function runs Astra 5 times with 5 different reference particles for specific D1,D2,D3\n",
    "\n",
    "    \n",
    "    changeInputData(\"Q_pos(1)\",str(D1 + lengthQ1/2))\n",
    "    changeInputData(\"Q_pos(2)\",str(D1 + lengthQ1 + D2 + lengthQ2/2) )\n",
    "    changeInputData(\"Q_pos(3)\",str(D1 + lengthQ1 + D2 + lengthQ2 + D3 + lengthQ3/2) )\n",
    "\n",
    "    inputDataName = {\"test0.ini\", \"test1.ini\", \"test2.ini\", \"test3.ini\", \"test4.ini\"}\n",
    "\n",
    "    outputData = []\n",
    "    for i in range(5):\n",
    "        changeInputData(\"Distribution\", inputDataName[i] )\n",
    "        subprocess.run(\"source /opt/intel/oneapi/setvars.sh && ./Astra \" + fileName, shell=True,check=True,executable='/bin/bash' )\n",
    "        outputData.append( loadDataRef() )\n",
    "\n",
    "    #workout the result and return it \n",
    "\n",
    "\n",
    "\n",
    "    return"
   ]
  },
  {
   "cell_type": "code",
   "execution_count": 7,
   "id": "d3781367-b131-4ca0-98b9-f242842bc919",
   "metadata": {},
   "outputs": [],
   "source": [
    "def RefParticles():\n",
    "\n",
    "    update()\n",
    "\n",
    "    #3 different variables- D1, D2, D3\n",
    "    D1 = []\n",
    "    D2 = []\n",
    "    D3 = []\n",
    "\n",
    "    #1/4 of the setup length will be divided into nIntervals\n",
    "    interval = setupLength/(4*nIntervals)\n",
    "    \n",
    "    for i in range(nIntervals):\n",
    "        D1.append(i*interval)\n",
    "        D2.append(i*interval)\n",
    "        D3.append(i*interval)\n",
    "\n",
    "    #3 cycles which run through all kinds of D1, D2, D3\n",
    "    \n",
    "    \n",
    "    \n",
    "\n",
    "\n",
    "    return"
   ]
  },
  {
   "cell_type": "code",
   "execution_count": null,
   "id": "f525e77e-1f27-4a8c-9e9b-d0e88691ce6e",
   "metadata": {},
   "outputs": [],
   "source": [
    "def runBeam():\n",
    "\n",
    "    "
   ]
  }
 ],
 "metadata": {
  "kernelspec": {
   "display_name": "Python 3 (ipykernel)",
   "language": "python",
   "name": "python3"
  },
  "language_info": {
   "codemirror_mode": {
    "name": "ipython",
    "version": 3
   },
   "file_extension": ".py",
   "mimetype": "text/x-python",
   "name": "python",
   "nbconvert_exporter": "python",
   "pygments_lexer": "ipython3",
   "version": "3.10.12"
  }
 },
 "nbformat": 4,
 "nbformat_minor": 5
}
