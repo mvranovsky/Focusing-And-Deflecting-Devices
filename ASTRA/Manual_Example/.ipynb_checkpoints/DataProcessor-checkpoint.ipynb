{
 "cells": [
  {
   "cell_type": "code",
   "execution_count": 1,
   "id": "2ba4c098-7944-4807-91cc-d8f0b1560f44",
   "metadata": {},
   "outputs": [],
   "source": [
    "#import all the needed libraries\n",
    "import pandas as pd\n",
    "import numpy as np\n",
    "import matplotlib as mp\n",
    "import os\n",
    "import re\n",
    "import yaml\n",
    "from subprocess import Popen\n"
   ]
  },
  {
   "cell_type": "code",
   "execution_count": 3,
   "id": "e29f044a-f0dc-4340-920f-93bdf72afc78",
   "metadata": {},
   "outputs": [],
   "source": [
    "#fill out information about the run, fill...\n",
    "fileName = \"Example\"\n",
    "fillNumber = \"001\"\n",
    "\n",
    "\n"
   ]
  },
  {
   "cell_type": "code",
   "execution_count": 46,
   "id": "d9fb9c44-8688-49de-97c6-840bba719a22",
   "metadata": {},
   "outputs": [],
   "source": [
    "def differLine(line):\n",
    "    lineSplitted = line.split()\n",
    "    \n",
    "    return [double(num) for num in lineSplitted]    "
   ]
  },
  {
   "cell_type": "code",
   "execution_count": 47,
   "id": "0517cc31-2329-4ba1-9bba-b3006de1b789",
   "metadata": {},
   "outputs": [],
   "source": [
    "def loadDataEmit(dir):\n",
    "    #this function loads emit data,argument dir is X or Y or Z\n",
    "\n",
    "    #open data files \n",
    "    data = []\n",
    "    with open(fileName + \".\" + dir + \"emit.\" + fillNumber,\"r\", encoding=\"utf-8\") as fileX:\n",
    "        for line in fileX:\n",
    "            newLine = differLine(yaml.safe_load(line +\"\\n\"))\n",
    "            data.append(newLine)\n",
    "            \n",
    "    return data\n"
   ]
  },
  {
   "cell_type": "code",
   "execution_count": 48,
   "id": "27fbc42f-7859-4332-8ea7-0023765a0abf",
   "metadata": {},
   "outputs": [
    {
     "ename": "NameError",
     "evalue": "name 'numbers' is not defined",
     "output_type": "error",
     "traceback": [
      "\u001b[0;31m---------------------------------------------------------------------------\u001b[0m",
      "\u001b[0;31mNameError\u001b[0m                                 Traceback (most recent call last)",
      "Cell \u001b[0;32mIn[48], line 1\u001b[0m\n\u001b[0;32m----> 1\u001b[0m emitX \u001b[38;5;241m=\u001b[39m \u001b[43mloadDataEmit\u001b[49m\u001b[43m(\u001b[49m\u001b[38;5;124;43m\"\u001b[39;49m\u001b[38;5;124;43mX\u001b[39;49m\u001b[38;5;124;43m\"\u001b[39;49m\u001b[43m)\u001b[49m\n\u001b[1;32m      2\u001b[0m emitY \u001b[38;5;241m=\u001b[39m loadDataEmit(\u001b[38;5;124m\"\u001b[39m\u001b[38;5;124mY\u001b[39m\u001b[38;5;124m\"\u001b[39m)\n\u001b[1;32m      3\u001b[0m emitZ \u001b[38;5;241m=\u001b[39m loadDataEmit(\u001b[38;5;124m\"\u001b[39m\u001b[38;5;124mZ\u001b[39m\u001b[38;5;124m\"\u001b[39m)\n",
      "Cell \u001b[0;32mIn[47], line 8\u001b[0m, in \u001b[0;36mloadDataEmit\u001b[0;34m(dir)\u001b[0m\n\u001b[1;32m      6\u001b[0m \u001b[38;5;28;01mwith\u001b[39;00m \u001b[38;5;28mopen\u001b[39m(fileName \u001b[38;5;241m+\u001b[39m \u001b[38;5;124m\"\u001b[39m\u001b[38;5;124m.\u001b[39m\u001b[38;5;124m\"\u001b[39m \u001b[38;5;241m+\u001b[39m \u001b[38;5;28mdir\u001b[39m \u001b[38;5;241m+\u001b[39m \u001b[38;5;124m\"\u001b[39m\u001b[38;5;124memit.\u001b[39m\u001b[38;5;124m\"\u001b[39m \u001b[38;5;241m+\u001b[39m fillNumber,\u001b[38;5;124m\"\u001b[39m\u001b[38;5;124mr\u001b[39m\u001b[38;5;124m\"\u001b[39m, encoding\u001b[38;5;241m=\u001b[39m\u001b[38;5;124m\"\u001b[39m\u001b[38;5;124mutf-8\u001b[39m\u001b[38;5;124m\"\u001b[39m) \u001b[38;5;28;01mas\u001b[39;00m fileX:\n\u001b[1;32m      7\u001b[0m     \u001b[38;5;28;01mfor\u001b[39;00m line \u001b[38;5;129;01min\u001b[39;00m fileX:\n\u001b[0;32m----> 8\u001b[0m         newLine \u001b[38;5;241m=\u001b[39m \u001b[43mdifferLine\u001b[49m\u001b[43m(\u001b[49m\u001b[43myaml\u001b[49m\u001b[38;5;241;43m.\u001b[39;49m\u001b[43msafe_load\u001b[49m\u001b[43m(\u001b[49m\u001b[43mline\u001b[49m\u001b[43m \u001b[49m\u001b[38;5;241;43m+\u001b[39;49m\u001b[38;5;124;43m\"\u001b[39;49m\u001b[38;5;130;43;01m\\n\u001b[39;49;00m\u001b[38;5;124;43m\"\u001b[39;49m\u001b[43m)\u001b[49m\u001b[43m)\u001b[49m\n\u001b[1;32m      9\u001b[0m         data\u001b[38;5;241m.\u001b[39mappend(newLine)\n\u001b[1;32m     11\u001b[0m \u001b[38;5;28;01mreturn\u001b[39;00m data\n",
      "Cell \u001b[0;32mIn[46], line 4\u001b[0m, in \u001b[0;36mdifferLine\u001b[0;34m(line)\u001b[0m\n\u001b[1;32m      1\u001b[0m \u001b[38;5;28;01mdef\u001b[39;00m \u001b[38;5;21mdifferLine\u001b[39m(line):\n\u001b[1;32m      2\u001b[0m     lineSplitted \u001b[38;5;241m=\u001b[39m line\u001b[38;5;241m.\u001b[39msplit()\n\u001b[0;32m----> 4\u001b[0m     \u001b[38;5;28;01mreturn\u001b[39;00m [double(num) \u001b[38;5;28;01mfor\u001b[39;00m num \u001b[38;5;129;01min\u001b[39;00m \u001b[43mnumbers\u001b[49m]\n",
      "\u001b[0;31mNameError\u001b[0m: name 'numbers' is not defined"
     ]
    }
   ],
   "source": [
    "emitX = loadDataEmit(\"X\")\n",
    "emitY = loadDataEmit(\"Y\")\n",
    "emitZ = loadDataEmit(\"Z\")\n",
    "\n",
    "print(emitX)\n",
    "    "
   ]
  },
  {
   "cell_type": "code",
   "execution_count": null,
   "id": "37c33fdc-3854-4402-a688-d7d8600b0b4a",
   "metadata": {},
   "outputs": [],
   "source": []
  }
 ],
 "metadata": {
  "kernelspec": {
   "display_name": "Python 3 (ipykernel)",
   "language": "python",
   "name": "python3"
  },
  "language_info": {
   "codemirror_mode": {
    "name": "ipython",
    "version": 3
   },
   "file_extension": ".py",
   "mimetype": "text/x-python",
   "name": "python",
   "nbconvert_exporter": "python",
   "pygments_lexer": "ipython3",
   "version": "3.10.12"
  }
 },
 "nbformat": 4,
 "nbformat_minor": 5
}
