{
 "cells": [
  {
   "cell_type": "code",
   "execution_count": 18,
   "id": "2ba4c098-7944-4807-91cc-d8f0b1560f44",
   "metadata": {},
   "outputs": [],
   "source": [
    "#import all the needed libraries\n",
    "import pandas as pd\n",
    "import numpy as np\n",
    "import matplotlib.pyplot as plt\n",
    "import os\n",
    "import re\n",
    "import yaml\n",
    "from subprocess import Popen\n"
   ]
  },
  {
   "cell_type": "code",
   "execution_count": 19,
   "id": "e29f044a-f0dc-4340-920f-93bdf72afc78",
   "metadata": {},
   "outputs": [],
   "source": [
    "#fill out information about the run, fill...\n",
    "#fileName = \"Example\"\n",
    "#fillNumber = \"001\"\n",
    "\n"
   ]
  },
  {
   "cell_type": "code",
   "execution_count": 20,
   "id": "d9fb9c44-8688-49de-97c6-840bba719a22",
   "metadata": {},
   "outputs": [],
   "source": [
    "def differLine(line):\n",
    "    lineSplitted = line.split()\n",
    "    \n",
    "    return [float(num) for num in lineSplitted]    "
   ]
  },
  {
   "cell_type": "code",
   "execution_count": 21,
   "id": "0517cc31-2329-4ba1-9bba-b3006de1b789",
   "metadata": {},
   "outputs": [],
   "source": [
    "def loadDataEmit(dir):\n",
    "    #this function loads emit data,argument dir is X or Y or Z\n",
    "    \n",
    "    # z position [m], t [ns], X avr[mm], X rms [mm], X prime rms [mrad], epsilon x,norm [pi mrad mm], X times X prime avr[mrad] \n",
    "    data = []\n",
    "    with open(fileName + \".\" + dir + \"emit.\" + fillNumber,\"r\", encoding=\"utf-8\") as fileX:\n",
    "        for line in fileX:\n",
    "            newLine = differLine(yaml.safe_load(line +\"\\n\"))\n",
    "            data.append(newLine)\n",
    "            \n",
    "    return data\n"
   ]
  },
  {
   "cell_type": "code",
   "execution_count": 29,
   "id": "ff2f1ec1-19f7-49e4-9dbe-645c9d74d4cc",
   "metadata": {},
   "outputs": [],
   "source": [
    "def loadDataRef(filename, fillNum):\n",
    "#open and load data about reference particle\n",
    "#z [m], t [ns], pz [MeV/c], dE/dz [MeV/c], Larmor Angle [rad], x off [mm], y off [mm], px [eV/c], py [eV/c]\n",
    "    \n",
    "    data = []\n",
    "    with open(filename + \".ref.\" + fillNum,\"r\") as file:\n",
    "        for line in file:\n",
    "            newLine = differLine(line)\n",
    "            data.append(newLine)\n",
    "\n",
    "    return data\n",
    "    "
   ]
  },
  {
   "cell_type": "code",
   "execution_count": 30,
   "id": "c7eae9ea-4557-4a79-b99e-b3caa947adae",
   "metadata": {},
   "outputs": [],
   "source": [
    "def plotRefParticleXY(data, title):\n",
    "#function to plot offsets in the X and Y direction of the reference particle\n",
    "    z = []\n",
    "    x = []\n",
    "    y = []\n",
    "    for line in data:\n",
    "        z.append(line[0])\n",
    "        x.append(line[5])\n",
    "        y.append(line[6])\n",
    "\n",
    "    plt.plot(z, x)\n",
    "    plt.xlabel(\"z [m]\")\n",
    "    plt.ylabel(\"x [mm]\")\n",
    "    plt.title(title)\n",
    "\n",
    "    plt.show()     \n",
    "\n",
    "    plt.plot(z, y)\n",
    "    plt.xlabel(\"z [m]\")\n",
    "    plt.ylabel(\"y [mm]\")\n",
    "    plt.title(title)\n",
    "\n",
    "    plt.show()     \n",
    "\n",
    "    \n",
    "    return"
   ]
  },
  {
   "cell_type": "code",
   "execution_count": 31,
   "id": "3fcf2348-7d94-47d2-bc70-44dd64399867",
   "metadata": {},
   "outputs": [],
   "source": [
    "def plotRefParticleMom(data,title):\n",
    "#function that plots momentum along the Z axis of the reference particle\n",
    "    z = []\n",
    "    pz = []\n",
    "    px = []\n",
    "    py = []\n",
    "    for line in data:\n",
    "        z.append(line[0])\n",
    "        pz.append(line[1])\n",
    "        px.append(line[7])\n",
    "        py.append(line[8])\n",
    "\n",
    "    plt.plot(z, px)\n",
    "    plt.xlabel(\"z [m]\")\n",
    "    plt.ylabel(\"p_{x} [eV/c]\")\n",
    "    plt.title(title)\n",
    "\n",
    "    plt.show()     \n",
    "\n",
    "    plt.plot(z, py)\n",
    "    plt.xlabel(\"z [m]\")\n",
    "    plt.ylabel(\"p_{y} [eV/c]\")\n",
    "    plt.title(title)\n",
    "    \n",
    "    plt.show()     \n",
    "\n",
    "    plt.plot(z, pz)\n",
    "    plt.xlabel(\"z [m]\")\n",
    "    plt.ylabel(\"p_{z} [MeV/c]\")\n",
    "    plt.title(title)\n",
    "\n",
    "\n",
    "    plt.show()   \n",
    "    \n",
    "    \n",
    "    return"
   ]
  },
  {
   "cell_type": "code",
   "execution_count": 32,
   "id": "37c33fdc-3854-4402-a688-d7d8600b0b4a",
   "metadata": {},
   "outputs": [
    {
     "name": "stderr",
     "output_type": "stream",
     "text": [
      "/bin/sh: 1: ./Astratest0: not found\n"
     ]
    },
    {
     "ename": "FileNotFoundError",
     "evalue": "[Errno 2] No such file or directory: 'test0.ref.001'",
     "output_type": "error",
     "traceback": [
      "\u001b[0;31m---------------------------------------------------------------------------\u001b[0m",
      "\u001b[0;31mFileNotFoundError\u001b[0m                         Traceback (most recent call last)",
      "Cell \u001b[0;32mIn[32], line 5\u001b[0m\n\u001b[1;32m      3\u001b[0m cmd \u001b[38;5;241m=\u001b[39m \u001b[38;5;124m\"\u001b[39m\u001b[38;5;124m./Astra\u001b[39m\u001b[38;5;124m\"\u001b[39m \u001b[38;5;241m+\u001b[39m name\n\u001b[1;32m      4\u001b[0m Popen(cmd, shell\u001b[38;5;241m=\u001b[39m\u001b[38;5;28;01mTrue\u001b[39;00m)\u001b[38;5;241m.\u001b[39mcommunicate()\n\u001b[0;32m----> 5\u001b[0m data0 \u001b[38;5;241m=\u001b[39m \u001b[43mloadDataRef\u001b[49m\u001b[43m(\u001b[49m\u001b[43mname\u001b[49m\u001b[43m,\u001b[49m\u001b[43m \u001b[49m\u001b[38;5;124;43m\"\u001b[39;49m\u001b[38;5;124;43m001\u001b[39;49m\u001b[38;5;124;43m\"\u001b[39;49m\u001b[43m)\u001b[49m\n\u001b[1;32m      7\u001b[0m plotRefParticleXY(data0, \u001b[38;5;124m\"\u001b[39m\u001b[38;5;124m0 offset, 0 angle\u001b[39m\u001b[38;5;124m\"\u001b[39m)\n\u001b[1;32m      8\u001b[0m plotRefParticle(data0, \u001b[38;5;124m\"\u001b[39m\u001b[38;5;124m0 offset, 0 angle\u001b[39m\u001b[38;5;124m\"\u001b[39m)\n",
      "Cell \u001b[0;32mIn[29], line 6\u001b[0m, in \u001b[0;36mloadDataRef\u001b[0;34m(filename, fillNum)\u001b[0m\n\u001b[1;32m      1\u001b[0m \u001b[38;5;28;01mdef\u001b[39;00m \u001b[38;5;21mloadDataRef\u001b[39m(filename, fillNum):\n\u001b[1;32m      2\u001b[0m \u001b[38;5;66;03m#open and load data about reference particle\u001b[39;00m\n\u001b[1;32m      3\u001b[0m \u001b[38;5;66;03m#z [m], t [ns], pz [MeV/c], dE/dz [MeV/c], Larmor Angle [rad], x off [mm], y off [mm], px [eV/c], py [eV/c]\u001b[39;00m\n\u001b[1;32m      5\u001b[0m     data \u001b[38;5;241m=\u001b[39m []\n\u001b[0;32m----> 6\u001b[0m     \u001b[38;5;28;01mwith\u001b[39;00m \u001b[38;5;28;43mopen\u001b[39;49m\u001b[43m(\u001b[49m\u001b[43mfilename\u001b[49m\u001b[43m \u001b[49m\u001b[38;5;241;43m+\u001b[39;49m\u001b[43m \u001b[49m\u001b[38;5;124;43m\"\u001b[39;49m\u001b[38;5;124;43m.ref.\u001b[39;49m\u001b[38;5;124;43m\"\u001b[39;49m\u001b[43m \u001b[49m\u001b[38;5;241;43m+\u001b[39;49m\u001b[43m \u001b[49m\u001b[43mfillNum\u001b[49m\u001b[43m,\u001b[49m\u001b[38;5;124;43m\"\u001b[39;49m\u001b[38;5;124;43mr\u001b[39;49m\u001b[38;5;124;43m\"\u001b[39;49m\u001b[43m)\u001b[49m \u001b[38;5;28;01mas\u001b[39;00m file:\n\u001b[1;32m      7\u001b[0m         \u001b[38;5;28;01mfor\u001b[39;00m line \u001b[38;5;129;01min\u001b[39;00m file:\n\u001b[1;32m      8\u001b[0m             newLine \u001b[38;5;241m=\u001b[39m differLine(line)\n",
      "File \u001b[0;32m~/.local/lib/python3.10/site-packages/IPython/core/interactiveshell.py:308\u001b[0m, in \u001b[0;36m_modified_open\u001b[0;34m(file, *args, **kwargs)\u001b[0m\n\u001b[1;32m    301\u001b[0m \u001b[38;5;28;01mif\u001b[39;00m file \u001b[38;5;129;01min\u001b[39;00m {\u001b[38;5;241m0\u001b[39m, \u001b[38;5;241m1\u001b[39m, \u001b[38;5;241m2\u001b[39m}:\n\u001b[1;32m    302\u001b[0m     \u001b[38;5;28;01mraise\u001b[39;00m \u001b[38;5;167;01mValueError\u001b[39;00m(\n\u001b[1;32m    303\u001b[0m         \u001b[38;5;124mf\u001b[39m\u001b[38;5;124m\"\u001b[39m\u001b[38;5;124mIPython won\u001b[39m\u001b[38;5;124m'\u001b[39m\u001b[38;5;124mt let you open fd=\u001b[39m\u001b[38;5;132;01m{\u001b[39;00mfile\u001b[38;5;132;01m}\u001b[39;00m\u001b[38;5;124m by default \u001b[39m\u001b[38;5;124m\"\u001b[39m\n\u001b[1;32m    304\u001b[0m         \u001b[38;5;124m\"\u001b[39m\u001b[38;5;124mas it is likely to crash IPython. If you know what you are doing, \u001b[39m\u001b[38;5;124m\"\u001b[39m\n\u001b[1;32m    305\u001b[0m         \u001b[38;5;124m\"\u001b[39m\u001b[38;5;124myou can use builtins\u001b[39m\u001b[38;5;124m'\u001b[39m\u001b[38;5;124m open.\u001b[39m\u001b[38;5;124m\"\u001b[39m\n\u001b[1;32m    306\u001b[0m     )\n\u001b[0;32m--> 308\u001b[0m \u001b[38;5;28;01mreturn\u001b[39;00m \u001b[43mio_open\u001b[49m\u001b[43m(\u001b[49m\u001b[43mfile\u001b[49m\u001b[43m,\u001b[49m\u001b[43m \u001b[49m\u001b[38;5;241;43m*\u001b[39;49m\u001b[43margs\u001b[49m\u001b[43m,\u001b[49m\u001b[43m \u001b[49m\u001b[38;5;241;43m*\u001b[39;49m\u001b[38;5;241;43m*\u001b[39;49m\u001b[43mkwargs\u001b[49m\u001b[43m)\u001b[49m\n",
      "\u001b[0;31mFileNotFoundError\u001b[0m: [Errno 2] No such file or directory: 'test0.ref.001'"
     ]
    }
   ],
   "source": [
    "\n",
    "#first run: particle with 0 offset and 0 angle\n",
    "name = \"test0\"\n",
    "cmd = \"./Astra\" + name\n",
    "Popen(cmd, shell=True).communicate()\n",
    "data0 = loadDataRef(name, \"001\")\n",
    "\n",
    "plotRefParticleXY(data0, \"0 offset, 0 angle\")\n",
    "plotRefParticle(data0, \"0 offset, 0 angle\")\n",
    "    "
   ]
  },
  {
   "cell_type": "code",
   "execution_count": null,
   "id": "eab88a88-49bc-4d24-831b-773827a06c79",
   "metadata": {},
   "outputs": [],
   "source": [
    "#second run: particle with x offset (3 mm) and 0 angle\n",
    "name = \"test1\"\n",
    "cmd = \"./Astra\" + name\n",
    "Popen(cmd, shell=True).communicate()\n",
    "data0 = loadDataRef(name, \"001\")\n",
    "\n",
    "plotRefParticleXY(data0, \"x offset (3 mm), 0 angle\")\n",
    "plotRefParticle(data0, \"x offset (3 mm), 0 angle\")\n",
    "    "
   ]
  }
 ],
 "metadata": {
  "kernelspec": {
   "display_name": "Python 3 (ipykernel)",
   "language": "python",
   "name": "python3"
  },
  "language_info": {
   "codemirror_mode": {
    "name": "ipython",
    "version": 3
   },
   "file_extension": ".py",
   "mimetype": "text/x-python",
   "name": "python",
   "nbconvert_exporter": "python",
   "pygments_lexer": "ipython3",
   "version": "3.10.12"
  }
 },
 "nbformat": 4,
 "nbformat_minor": 5
}
