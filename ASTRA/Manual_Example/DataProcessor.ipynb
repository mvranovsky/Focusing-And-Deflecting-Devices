{
 "cells": [
  {
   "cell_type": "code",
   "execution_count": null,
   "id": "2ba4c098-7944-4807-91cc-d8f0b1560f44",
   "metadata": {},
   "outputs": [],
   "source": [
    "#import all the needed libraries\n",
    "import pandas as pd\n",
    "import numpy as np\n",
    "import matplotlib as mp\n",
    "import os\n",
    "import re\n",
    "import yaml\n",
    "from subprocess import Popen\n"
   ]
  },
  {
   "cell_type": "code",
   "execution_count": null,
   "id": "e29f044a-f0dc-4340-920f-93bdf72afc78",
   "metadata": {},
   "outputs": [],
   "source": [
    "#fill out information about the run, fill...\n",
    "filename = \"Example\"\n",
    "fillNumber = 001\n"
   ]
  }
 ],
 "metadata": {
  "kernelspec": {
   "display_name": "Python 3 (ipykernel)",
   "language": "python",
   "name": "python3"
  },
  "language_info": {
   "codemirror_mode": {
    "name": "ipython",
    "version": 3
   },
   "file_extension": ".py",
   "mimetype": "text/x-python",
   "name": "python",
   "nbconvert_exporter": "python",
   "pygments_lexer": "ipython3",
   "version": "3.10.12"
  }
 },
 "nbformat": 4,
 "nbformat_minor": 5
}
