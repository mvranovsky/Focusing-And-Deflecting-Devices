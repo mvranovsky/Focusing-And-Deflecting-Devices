{
 "cells": [
  {
   "cell_type": "code",
   "execution_count": 1,
   "id": "2ba4c098-7944-4807-91cc-d8f0b1560f44",
   "metadata": {},
   "outputs": [],
   "source": [
    "#import all the needed libraries\n",
    "import pandas as pd\n",
    "import numpy as np\n",
    "import matplotlib as mp\n",
    "import os\n",
    "import re\n",
    "import yaml\n",
    "from subprocess import Popen\n"
   ]
  },
  {
   "cell_type": "code",
   "execution_count": 3,
   "id": "e29f044a-f0dc-4340-920f-93bdf72afc78",
   "metadata": {},
   "outputs": [],
   "source": [
    "#fill out information about the run, fill...\n",
    "fileName = \"Example\"\n",
    "fillNumber = \"001\"\n",
    "\n"
   ]
  },
  {
   "cell_type": "code",
   "execution_count": 52,
   "id": "d9fb9c44-8688-49de-97c6-840bba719a22",
   "metadata": {},
   "outputs": [],
   "source": [
    "def differLine(line):\n",
    "    lineSplitted = line.split()\n",
    "    \n",
    "    return [float(num) for num in lineSplitted]    "
   ]
  },
  {
   "cell_type": "code",
   "execution_count": 53,
   "id": "0517cc31-2329-4ba1-9bba-b3006de1b789",
   "metadata": {},
   "outputs": [],
   "source": [
    "def loadDataEmit(dir):\n",
    "    #this function loads emit data,argument dir is X or Y or Z\n",
    "\n",
    "    #open data files \n",
    "    data = []\n",
    "    with open(fileName + \".\" + dir + \"emit.\" + fillNumber,\"r\", encoding=\"utf-8\") as fileX:\n",
    "        for line in fileX:\n",
    "            newLine = differLine(yaml.safe_load(line +\"\\n\"))\n",
    "            data.append(newLine)\n",
    "            \n",
    "    return data\n"
   ]
  },
  {
   "cell_type": "code",
   "execution_count": 57,
   "id": "27fbc42f-7859-4332-8ea7-0023765a0abf",
   "metadata": {},
   "outputs": [
    {
     "name": "stdout",
     "output_type": "stream",
     "text": [
      "0.0\n"
     ]
    }
   ],
   "source": [
    "emitX = loadDataEmit(\"X\")\n",
    "emitY = loadDataEmit(\"Y\")\n",
    "emitZ = loadDataEmit(\"Z\")\n",
    "    "
   ]
  },
  {
   "cell_type": "code",
   "execution_count": null,
   "id": "37c33fdc-3854-4402-a688-d7d8600b0b4a",
   "metadata": {},
   "outputs": [],
   "source": []
  }
 ],
 "metadata": {
  "kernelspec": {
   "display_name": "Python 3 (ipykernel)",
   "language": "python",
   "name": "python3"
  },
  "language_info": {
   "codemirror_mode": {
    "name": "ipython",
    "version": 3
   },
   "file_extension": ".py",
   "mimetype": "text/x-python",
   "name": "python",
   "nbconvert_exporter": "python",
   "pygments_lexer": "ipython3",
   "version": "3.10.12"
  }
 },
 "nbformat": 4,
 "nbformat_minor": 5
}
