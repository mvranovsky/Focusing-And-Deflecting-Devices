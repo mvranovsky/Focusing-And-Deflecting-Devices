{
 "cells": [
  {
   "cell_type": "code",
   "execution_count": 1,
   "id": "04da7f8a-3d13-4271-b6ed-2a94bcd087a9",
   "metadata": {},
   "outputs": [],
   "source": [
    "import pandas as pd\n",
    "import numpy as np\n",
    "import matplotlib.pyplot as plt\n",
    "import scipy as sc\n",
    "import os\n",
    "import re\n",
    "import yaml\n",
    "import sys\n",
    "import subprocess\n",
    "import math\n",
    "import glob\n",
    "import time\n",
    "import random\n",
    "from statistics import mean"
   ]
  },
  {
   "cell_type": "code",
   "execution_count": 2,
   "id": "72e638ec-827f-4c5d-b13c-85bab08912ca",
   "metadata": {},
   "outputs": [],
   "source": [
    "from AstraWrapper.SettingsFile import SettingsFile\n",
    "from AstraWrapper.Astra import Astra"
   ]
  },
  {
   "cell_type": "code",
   "execution_count": 3,
   "id": "e06f32f7-85b6-4e8d-8bc9-f503f4445bed",
   "metadata": {},
   "outputs": [],
   "source": [
    "setFile = SettingsFile(\"parallelBeam\")\n",
    "astra = Astra(setFile)"
   ]
  },
  {
   "cell_type": "markdown",
   "id": "b9ad748b-f18d-4f1c-81fb-9be0e874df9f",
   "metadata": {},
   "source": [
    "# Parallel focusing \n",
    "This is python code written in jupyter notebook which implements different methods for point-point to parallel-parallel focusing. It uses software ASTRA, a program to simulate beam dynamics in accelerators. Programs in this notebook run in the same directory as are the ASTRA executables, mainly generator and Astra. \n",
    "\n",
    "The initial information are regarding the input file to Astra and information about reference particles. I used 5 different reference particles to determine the focusing properties of a setup- the first particle with 0 offset and 0 angle, moving along the z axis. This particle should not move in the transverse direction. Next 2 particles would be with initial offsets in the x and y directions respectively, but because this is point-point focusing, I am not using these. Last 2 have angles in the x and y direction respectively.\n",
    "\n",
    "The magnets that are used are permanent quadrupole magnets with set gradients, lengths and bore diameters. These parameters can be changed, but for now they are set to values of 3 quadrupole magnets in LLR laboratory. The variables which will be changing are distances between them and the initial momentum. D1 is the distance from the source to the 1. quadrupole magnet. Realistically, D1 is only up to fringe fields which are magnetic fields outside the magnet's bores (reach 3*bore size in ASTRA). This option can be changed using TopHatShapedQuads() function. D2 and D3 are distances between first 2 and last 2 magnets in sequence. Last variable that can be changed is the initial longitudinal momentum of particles.\n",
    "\n",
    "For running beam simulations, one can define it's initial parameters like spread of transverse momenta, spread of longitudinal energy, spread of offsets in the x and y directions as well as in the longitudinal direction. Also number of initial particles, space charge, secondary particle emission or other parameters can be changed in file parallelBeam.in.\n"
   ]
  },
  {
   "cell_type": "code",
   "execution_count": 4,
   "id": "53d35707-0fd2-46b6-bac1-b3a0c74c22af",
   "metadata": {},
   "outputs": [],
   "source": [
    "def func(D1, D2,D3, D4, momZ, switcher):\n",
    "    \n",
    "    dataCurrent = runRef(D1,D2, D3, D4, momZ, False)\n",
    "    if dataCurrent == 1:\n",
    "        return 1E+9\n",
    "    sumX = parallelFocusing(dataCurrent)\n",
    "    \n",
    "    print(D3*1e+2, sumX)\n",
    "\n",
    "    D3vals[switcher].append(D3*1e+2)\n",
    "    funcVals[switcher].append(sumX)\n",
    "    \n",
    "    return sumX"
   ]
  },
  {
   "cell_type": "code",
   "execution_count": 9,
   "id": "845f53c6-8786-47dd-a2fa-818725b3acfa",
   "metadata": {},
   "outputs": [],
   "source": [
    "def studyOfMaxStep():\n",
    "    # with this junk, i studied the different step size at Astra, function below plots the results\n",
    "    Dmin = [0.0, 0.0]\n",
    "    Dmax = [1., 1.]\n",
    "    bounds = [(low, high) for low, high in zip(Dmin, Dmax)]\n",
    "    \n",
    "    with open(inputFile, \"r\") as file:\n",
    "        input = file.readlines()\n",
    "    \n",
    "    \n",
    "    setups = []\n",
    "    for line in input:\n",
    "        line = line.replace(\"\\n\",\"\")\n",
    "        line = line.split(\" \")  \n",
    "        num = [float(line[0]), float(line[1]), float(line[2]), float(line[3]), float(line[4])]\n",
    "        setups.append(num)\n",
    "    \n",
    "    '''\n",
    "    \n",
    "    results = [[],[]]\n",
    "    for setup in setups:\n",
    "        time1 = time.time()\n",
    "        #res = sc.optimize.minimize(func, (0.1, 0.1),method=\"COBYLA\", bounds=bounds,tol=1e-4, args=(setup[0],setup[3], setup[4] ))\n",
    "        print(runRef(*setup, False))\n",
    "        time2 = time.time()\n",
    "        #plotRefXY3(setup[0], *res.x, setup[3], setup[4], f\"solution: {res.x}\")\n",
    "        print(f\"Timing: {time2 - time1}\")\n",
    "        break\n",
    "        \n",
    "        \n",
    "        results[0] = list(D3vals)\n",
    "        results[1] = list(funcVals)\n",
    "        D3vals.clear()\n",
    "        funcVals.clear()\n",
    "    \n",
    "        plt.scatter(results[0], results[1], label=methods[0] + \" tol=1e-4\")\n",
    "        plt.xlabel(\"D3 [cm]\")\n",
    "        plt.ylabel(\"f(D3) [mrad^2]\")\n",
    "        plt.xlim(0,15)\n",
    "        plt.ylim(0,1)\n",
    "        plt.legend()\n",
    "        plt.show()\n",
    "        plt.scatter(results[0], results[1], label=methods[0] + \" tol=1e-4\")\n",
    "        plt.scatter(results[2], results[3], label=methods[1] + \" tol=1e-4\")\n",
    "        plt.scatter(results[4], results[5], label=methods[2] + \" tol=1e-4\")\n",
    "        plt.xlabel(\"D3 [cm]\")\n",
    "        plt.ylabel(\"f(D3) [mrad^2]\")\n",
    "        plt.xlim(7.25,7.4)\n",
    "        plt.ylim(0,0.00001)\n",
    "    '''\n",
    "    timings = []\n",
    "    Hmax = [0.005, 0.001, 0.0005, 0.0001]\n",
    "    astra.quadType(1)\n",
    "    for h in Hmax:\n",
    "        setFile.changeInputData(\"H_max\",str(h))\n",
    "        time1 = time.time()\n",
    "        for i in range(100):\n",
    "            D3 = (7.25 +i*0.15/100)/100\n",
    "            if h == 0.005:\n",
    "                resX= func(setups[0][0], setups[0][1],D3,setups[0][3],setups[0][4], 0)\n",
    "            elif h == 0.001:\n",
    "                resX= func(setups[0][0], setups[0][1],D3,setups[0][3],setups[0][4], 1)\n",
    "            elif h == 0.0005:\n",
    "                resX= func(setups[0][0], setups[0][1],D3,setups[0][3],setups[0][4],2)\n",
    "            elif h == 0.0001:\n",
    "                resX= func(setups[0][0], setups[0][1],D3,setups[0][3],setups[0][4],3)\n",
    "        \n",
    "        time2 = time.time()\n",
    "        timings.append(time2 -time1)\n",
    "        print(timings)\n",
    "        '''\n",
    "        plt.scatter(D3vals, funcVals, label=\"x angle\")\n",
    "        plt.xlabel(\"D3 [cm]\")\n",
    "        plt.ylabel(\"f(D3) [mrad^2]\")\n",
    "        plt.xlim(7.25,7.4)\n",
    "        plt.ylim(0,0.0002)\n",
    "        \n",
    "        plt.legend()\n",
    "        plt.show()\n",
    "        \n",
    "        \n",
    "        plt.plot(D3vals, funcVals, label=\"x angle\")\n",
    "        plt.xlabel(\"D3 [cm]\")\n",
    "        plt.ylabel(\"f(D3) [mrad^2]\")\n",
    "        plt.xlim(7.25,7.4)\n",
    "        plt.ylim(0,0.0001)\n",
    "        \n",
    "        plt.legend()\n",
    "        plt.show()\n",
    "        '''\n",
    "    #proc.stdin.close()\n",
    "    #proc.wait()  # This waits for the shell process to terminate"
   ]
  },
  {
   "cell_type": "code",
   "execution_count": 10,
   "id": "df1133f3-3f5b-4c0c-b311-ba2e37f4dc0e",
   "metadata": {},
   "outputs": [
    {
     "ename": "NameError",
     "evalue": "name 'inputFile' is not defined",
     "output_type": "error",
     "traceback": [
      "\u001b[0;31m---------------------------------------------------------------------------\u001b[0m",
      "\u001b[0;31mNameError\u001b[0m                                 Traceback (most recent call last)",
      "Cell \u001b[0;32mIn[10], line 3\u001b[0m\n\u001b[1;32m      1\u001b[0m D3Vals \u001b[38;5;241m=\u001b[39m [[],[],[],[]]\n\u001b[1;32m      2\u001b[0m funcVals \u001b[38;5;241m=\u001b[39m [[],[],[],[]]\n\u001b[0;32m----> 3\u001b[0m \u001b[43mstudyOfMaxStep\u001b[49m\u001b[43m(\u001b[49m\u001b[43m)\u001b[49m\n",
      "Cell \u001b[0;32mIn[9], line 7\u001b[0m, in \u001b[0;36mstudyOfMaxStep\u001b[0;34m()\u001b[0m\n\u001b[1;32m      4\u001b[0m Dmax \u001b[38;5;241m=\u001b[39m [\u001b[38;5;241m1.\u001b[39m, \u001b[38;5;241m1.\u001b[39m]\n\u001b[1;32m      5\u001b[0m bounds \u001b[38;5;241m=\u001b[39m [(low, high) \u001b[38;5;28;01mfor\u001b[39;00m low, high \u001b[38;5;129;01min\u001b[39;00m \u001b[38;5;28mzip\u001b[39m(Dmin, Dmax)]\n\u001b[0;32m----> 7\u001b[0m \u001b[38;5;28;01mwith\u001b[39;00m \u001b[38;5;28mopen\u001b[39m(\u001b[43minputFile\u001b[49m, \u001b[38;5;124m\"\u001b[39m\u001b[38;5;124mr\u001b[39m\u001b[38;5;124m\"\u001b[39m) \u001b[38;5;28;01mas\u001b[39;00m file:\n\u001b[1;32m      8\u001b[0m     \u001b[38;5;28minput\u001b[39m \u001b[38;5;241m=\u001b[39m file\u001b[38;5;241m.\u001b[39mreadlines()\n\u001b[1;32m     11\u001b[0m setups \u001b[38;5;241m=\u001b[39m []\n",
      "\u001b[0;31mNameError\u001b[0m: name 'inputFile' is not defined"
     ]
    }
   ],
   "source": [
    "D3Vals = [[],[],[],[]]\n",
    "funcVals = [[],[],[],[]]\n",
    "studyOfMaxStep(\"../backup/inputLists/maxStepStudy.txt\")"
   ]
  },
  {
   "cell_type": "code",
   "execution_count": null,
   "id": "135902ea-fed3-4b74-9017-0cdc505e1eeb",
   "metadata": {},
   "outputs": [],
   "source": [
    "def plotStepStudy():\n",
    "    plt.scatter(D3vals[0], funcVals[0], label=\"H_max = 0.005 ns, t = 6.6 s\")\n",
    "    plt.scatter(D3vals[1], funcVals[1], label=\"H_max = 0.001 ns, t = 15.0 s\")\n",
    "    plt.scatter(D3vals[2], funcVals[2], label=\"H_max = 0.0005 ns, t = 25.1 s\")\n",
    "    plt.scatter(D3vals[3], funcVals[3], label=\"H_max = 0.0001 ns, t = 111.1 s\")\n",
    "    plt.xlabel(\"D3 [cm]\")\n",
    "    plt.ylabel(\"f(D3) [mrad^2]\")\n",
    "    plt.xlim(7.25,7.4)\n",
    "    plt.ylim(0,0.0002)\n",
    "    \n",
    "    plt.legend()\n",
    "    plt.show()\n",
    "    \n",
    "    \n",
    "    plt.plot(D3vals[0][0:-100], funcVals[0][0:-100], label=\"H_max = 0.005 ns, t = 6.6 s\")\n",
    "    plt.plot(D3vals[1], funcVals[1], label=\"H_max = 0.001 ns, t = 15.0 s\")\n",
    "    plt.plot(D3vals[2], funcVals[2], label=\"H_max = 0.0005 ns, t = 25.1 s\")\n",
    "    plt.plot(D3vals[3], funcVals[3], label=\"H_max = 0.0001 ns, t = 111.1 s\")\n",
    "    plt.xlabel(\"D3 [cm]\")\n",
    "    plt.ylabel(\"f(D3) [mrad^2]\")\n",
    "    plt.xlim(7.25,7.4)\n",
    "    plt.ylim(0,0.0002)\n",
    "    \n",
    "    plt.legend()\n",
    "    plt.show()"
   ]
  },
  {
   "cell_type": "code",
   "execution_count": null,
   "id": "ac156898-96d5-4c80-91c3-1f01e58e4b7c",
   "metadata": {},
   "outputs": [],
   "source": [
    "plotStepStudy()"
   ]
  }
 ],
 "metadata": {
  "kernelspec": {
   "display_name": "Python 3 (ipykernel)",
   "language": "python",
   "name": "python3"
  },
  "language_info": {
   "codemirror_mode": {
    "name": "ipython",
    "version": 3
   },
   "file_extension": ".py",
   "mimetype": "text/x-python",
   "name": "python",
   "nbconvert_exporter": "python",
   "pygments_lexer": "ipython3",
   "version": "3.10.12"
  }
 },
 "nbformat": 4,
 "nbformat_minor": 5
}
